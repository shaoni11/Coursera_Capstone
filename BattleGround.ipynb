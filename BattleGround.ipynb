{
    "cells": [
        {
            "cell_type": "markdown",
            "metadata": {
                "collapsed": true
            },
            "source": "# Capstone Project- The Battle of Neighborhood"
        },
        {
            "cell_type": "markdown",
            "metadata": {},
            "source": "### Introduction & Bussiness justification"
        },
        {
            "cell_type": "markdown",
            "metadata": {},
            "source": "#### Background"
        },
        {
            "cell_type": "markdown",
            "metadata": {},
            "source": "The City of New York, is the most populous city in the United States. It is the financial capital of USA. This also means that the market is highly competitive. It provides lot of business oppourtunities and business friendly environment. It has attracted many different players into the market. It is a global hub of business and commerce. There are more than 2 million small businesses in New York state, which employ 4 million people. These small businesses make up 99.8% of all businesses within the state and employ more than half the state's workforce.\n\n People from diverse area lives here. As it is highly developed city so cost of doing business is also one of the highest. With it\u2019s diverse culture , comes diverse food items. There are many restaurants in New York City, each belonging to different categories like Chinese , Indian , French etc. We need to analyze which immigrants are more, so that we can get an idea about the resturant style."
        },
        {
            "cell_type": "markdown",
            "metadata": {},
            "source": "#### Things to keep in mind: "
        },
        {
            "cell_type": "markdown",
            "metadata": {},
            "source": "A restaurant is such a business where the business personel has to keep in mind customer demand based on the population type nearby. The popular cuisine nearby. The City of New York & Toronto is famous for its excelllent cuisine. It's food culture includes an array of international cuisines influenced by the city's immigrant history.\n\nCentral and Eastern European immigrants, especially Jewish immigrants - bagels, cheesecake, hot dogs etc\nItalian immigrants -  pizza and Italian cuisine\nChinese , Asian and Middle Eastern restaurants- sandwich joints, lebanese, kababs and many more\nmobile food vendors - Some 4,000 licensed by the city.\n\nSo it is evident that to survive in such competitive market it is very important to startegically plan. Various factors need to be studied inorder to decide on the Location such as :\n\nNew York Population including immigrants & natives.\nMarkets, Wholesale markets etc nearby so that the ingredients can be purchased fresh to maintain quality and cost.\nvenues like Gyms, Entertainmnet zones, Parks etc nearby where floating population is high etc\nalready established branded open resturants & food joints.\nVarieties available there.\nSegmentation of the Borough\nSaturated markets etc\nThe list can go on...\nEventhough well funded,The Company need to choose the correct location to start its first venture.If this is successful they can plan about expantion, but the first foot step is needs to be very calculative."
        },
        {
            "cell_type": "markdown",
            "metadata": {},
            "source": "#### Target Audience:\n"
        },
        {
            "cell_type": "markdown",
            "metadata": {},
            "source": "To recommend the correct location,Company has appointed the Data Science team. The objective is to locate and recommend to the management which neighborhood of Newyork city will be best choice to start a restaurant. The Management also expects the team to keep their demands in mind.\nThis would be a challenging job now to hit the correct audience."
        },
        {
            "cell_type": "markdown",
            "metadata": {},
            "source": "#### Challenges to face:"
        },
        {
            "cell_type": "markdown",
            "metadata": {},
            "source": "We need to compare two cities with their geographical boundaries. We need to compare different data sets. We need to provide detailed analysis on different datasets."
        },
        {
            "cell_type": "markdown",
            "metadata": {},
            "source": ""
        },
        {
            "cell_type": "code",
            "execution_count": null,
            "metadata": {},
            "outputs": [],
            "source": ""
        }
    ],
    "metadata": {
        "kernelspec": {
            "display_name": "Python 3.6",
            "language": "python",
            "name": "python3"
        },
        "language_info": {
            "codemirror_mode": {
                "name": "ipython",
                "version": 3
            },
            "file_extension": ".py",
            "mimetype": "text/x-python",
            "name": "python",
            "nbconvert_exporter": "python",
            "pygments_lexer": "ipython3",
            "version": "3.6.8"
        }
    },
    "nbformat": 4,
    "nbformat_minor": 1
}