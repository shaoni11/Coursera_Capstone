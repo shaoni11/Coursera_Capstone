{
    "cells": [
        {
            "metadata": {
                "collapsed": true
            },
            "cell_type": "markdown",
            "source": "# Introduction to  Business Problem"
        },
        {
            "metadata": {},
            "cell_type": "markdown",
            "source": "## Location Data"
        },
        {
            "metadata": {},
            "cell_type": "markdown",
            "source": "Location data is data describing places and venues, such as their geographical location, their category, working hours, full address, and so on, such that for a given location given in the form of its geographical coordinates (or latitude and longitude values) one is able to determine what types of venues exist within a defined radius from that location. So for a given location you will be able to tell if restaurants for example, exist nearby, or if schools, or parks, or gyms, or community centres exist nearby. Also how many of each category exist and how each surrounding venue is reviewed by other people. So this is what's referred to as location data.\nAnother feature is cost, which is how much it would cost you to use their API to fetch location data.\nAnother feature is coverage, which is geospatial coverage. In other words, how many countries or geographical locations the location data set covers. \nAnother feature is accuracy, so how accurate is the location data provided by each provider? Especially those that crowdsource their data. \nAnd finally, update frequency, which means how frequently the location data gets updated. So you will find some providers like Foursquare for example, who update their data continuously, whereas other providers would update their data either daily or weekly depending on their location data. So, these are some of the features to keep in mind if in the future you find yourself requiring to use location data to solve a problem. But as far as this project is concerned, we will we will use the Foursquare location dataset. I've been using their API for over a year now and I have found their dataset to be the most comprehensive so far. Also creating a developer account to use their API is quite straightforward and the easiest compared to other providers. Therefore, let's start learning how to use the Foursquare API to leverage location data."
        },
        {
            "metadata": {},
            "cell_type": "markdown",
            "source": "# Prerequisites"
        },
        {
            "metadata": {},
            "cell_type": "markdown",
            "source": "To acquire the data mentioned above, I will need to import following packages:\n\n1. Import Numpy to handle data in vectorized manner\n2. Import panda library for data analysis\n3. Print a welcome note"
        },
        {
            "metadata": {},
            "cell_type": "markdown",
            "source": "# Importing Packages"
        },
        {
            "metadata": {},
            "cell_type": "code",
            "source": "import numpy as np # library to handle data in a vectorized manner\n\nimport pandas as pd # library for data analsysis\n\nprint('Hello Capstone Project Course!')",
            "execution_count": 1,
            "outputs": [
                {
                    "output_type": "stream",
                    "text": "Hello Capstone Project Course!\n",
                    "name": "stdout"
                }
            ]
        },
        {
            "metadata": {},
            "cell_type": "code",
            "source": "",
            "execution_count": null,
            "outputs": []
        }
    ],
    "metadata": {
        "kernelspec": {
            "name": "python3",
            "display_name": "Python 3.6",
            "language": "python"
        },
        "language_info": {
            "name": "python",
            "version": "3.6.8",
            "mimetype": "text/x-python",
            "codemirror_mode": {
                "name": "ipython",
                "version": 3
            },
            "pygments_lexer": "ipython3",
            "nbconvert_exporter": "python",
            "file_extension": ".py"
        }
    },
    "nbformat": 4,
    "nbformat_minor": 1
}