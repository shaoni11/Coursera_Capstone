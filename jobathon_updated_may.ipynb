{
  "nbformat": 4,
  "nbformat_minor": 0,
  "metadata": {
    "colab": {
      "name": "jobathon_updated_may.ipynb",
      "provenance": [],
      "collapsed_sections": [],
      "toc_visible": true,
      "mount_file_id": "1dap9wi5BLHKZOGO3zTa3nHT8zZG5zgpZ",
      "authorship_tag": "ABX9TyMxoWm+asbF+Vhqow+AeOH8",
      "include_colab_link": true
    },
    "kernelspec": {
      "name": "python3",
      "display_name": "Python 3"
    },
    "language_info": {
      "name": "python"
    }
  },
  "cells": [
    {
      "cell_type": "markdown",
      "metadata": {
        "id": "view-in-github",
        "colab_type": "text"
      },
      "source": [
        "<a href=\"https://colab.research.google.com/github/shaoni11/Coursera_Capstone/blob/master/jobathon_updated_may.ipynb\" target=\"_parent\"><img src=\"https://colab.research.google.com/assets/colab-badge.svg\" alt=\"Open In Colab\"/></a>"
      ]
    },
    {
      "cell_type": "code",
      "metadata": {
        "colab": {
          "base_uri": "https://localhost:8080/"
        },
        "id": "0iLwlR5y7sCq",
        "outputId": "c5a3c860-c545-4b8c-cda2-17181226a9a6"
      },
      "source": [
        "#Credit card lead prediction\n",
        "!pip install catboost\n",
        "import pandas as pd\n",
        "import numpy as np\n",
        "import missingno as msno\n",
        "import matplotlib.pyplot as plt\n",
        "import seaborn as sns\n",
        "from xgboost import XGBClassifier\n",
        "from catboost import CatBoostClassifier\n",
        "from lightgbm import LGBMClassifier\n",
        "from sklearn.experimental import enable_hist_gradient_boosting\n",
        "from sklearn.ensemble import GradientBoostingClassifier,RandomForestClassifier,BaggingClassifier,AdaBoostClassifier,ExtraTreesClassifier,StackingClassifier, HistGradientBoostingClassifier\n",
        "from sklearn.tree import DecisionTreeClassifier\n",
        "from sklearn.linear_model import LogisticRegression\n",
        "from sklearn.metrics import f1_score,classification_report, roc_auc_score\n",
        "from sklearn.preprocessing import LabelEncoder, KBinsDiscretizer, RobustScaler\n",
        "from sklearn.model_selection import KFold,StratifiedKFold, GroupKFold,train_test_split\n",
        "import gc\n",
        "import datetime\n",
        "from tqdm.notebook import tqdm ,tnrange\n",
        "import warnings\n",
        "warnings.filterwarnings(\"ignore\")\n",
        "np.random.seed(0)\n",
        "pd.set_option('display.max_columns', 500)\n"
      ],
      "execution_count": null,
      "outputs": [
        {
          "output_type": "stream",
          "text": [
            "Collecting catboost\n",
            "\u001b[?25l  Downloading https://files.pythonhosted.org/packages/47/80/8e9c57ec32dfed6ba2922bc5c96462cbf8596ce1a6f5de532ad1e43e53fe/catboost-0.25.1-cp37-none-manylinux1_x86_64.whl (67.3MB)\n",
            "\u001b[K     |████████████████████████████████| 67.3MB 54kB/s \n",
            "\u001b[?25hRequirement already satisfied: six in /usr/local/lib/python3.7/dist-packages (from catboost) (1.15.0)\n",
            "Requirement already satisfied: scipy in /usr/local/lib/python3.7/dist-packages (from catboost) (1.4.1)\n",
            "Requirement already satisfied: matplotlib in /usr/local/lib/python3.7/dist-packages (from catboost) (3.2.2)\n",
            "Requirement already satisfied: numpy>=1.16.0 in /usr/local/lib/python3.7/dist-packages (from catboost) (1.19.5)\n",
            "Requirement already satisfied: graphviz in /usr/local/lib/python3.7/dist-packages (from catboost) (0.10.1)\n",
            "Requirement already satisfied: pandas>=0.24.0 in /usr/local/lib/python3.7/dist-packages (from catboost) (1.1.5)\n",
            "Requirement already satisfied: plotly in /usr/local/lib/python3.7/dist-packages (from catboost) (4.4.1)\n",
            "Requirement already satisfied: kiwisolver>=1.0.1 in /usr/local/lib/python3.7/dist-packages (from matplotlib->catboost) (1.3.1)\n",
            "Requirement already satisfied: python-dateutil>=2.1 in /usr/local/lib/python3.7/dist-packages (from matplotlib->catboost) (2.8.1)\n",
            "Requirement already satisfied: pyparsing!=2.0.4,!=2.1.2,!=2.1.6,>=2.0.1 in /usr/local/lib/python3.7/dist-packages (from matplotlib->catboost) (2.4.7)\n",
            "Requirement already satisfied: cycler>=0.10 in /usr/local/lib/python3.7/dist-packages (from matplotlib->catboost) (0.10.0)\n",
            "Requirement already satisfied: pytz>=2017.2 in /usr/local/lib/python3.7/dist-packages (from pandas>=0.24.0->catboost) (2018.9)\n",
            "Requirement already satisfied: retrying>=1.3.3 in /usr/local/lib/python3.7/dist-packages (from plotly->catboost) (1.3.3)\n",
            "Installing collected packages: catboost\n",
            "Successfully installed catboost-0.25.1\n"
          ],
          "name": "stdout"
        }
      ]
    },
    {
      "cell_type": "code",
      "metadata": {
        "colab": {
          "base_uri": "https://localhost:8080/"
        },
        "id": "j2Kbj1JO8Lam",
        "outputId": "8d931cfd-7508-4af9-9136-2f9bb3acccb6"
      },
      "source": [
        "df_train = pd.read_csv(\"/content/drive/MyDrive/train_s3TEQDk.csv\")\n",
        "df_test = pd.read_csv(\"/content/drive/MyDrive/test_mSzZ8RL.csv\")\n",
        "df_total = pd.concat([df_train,df_test],ignore_index=True, sort=False)\n",
        "print(\"Shape of datasets: \", df_train.shape, df_test.shape, df_total.shape)"
      ],
      "execution_count": null,
      "outputs": [
        {
          "output_type": "stream",
          "text": [
            "Shape of datasets:  (245725, 11) (105312, 10) (351037, 11)\n"
          ],
          "name": "stdout"
        }
      ]
    },
    {
      "cell_type": "code",
      "metadata": {
        "id": "sX80QUbE8kmu"
      },
      "source": [
        "df_total['Credit_Product'].fillna('unknown',inplace=True)"
      ],
      "execution_count": null,
      "outputs": []
    },
    {
      "cell_type": "code",
      "metadata": {
        "id": "G3jiBokx8pJX"
      },
      "source": [
        "objList = df_total.select_dtypes(include = \"object\").columns\n"
      ],
      "execution_count": null,
      "outputs": []
    },
    {
      "cell_type": "code",
      "metadata": {
        "colab": {
          "base_uri": "https://localhost:8080/"
        },
        "id": "w8OXzeJ69VPc",
        "outputId": "96408e30-536f-4ab8-ddaf-f959de475b4b"
      },
      "source": [
        "#Label Encoding for object to numeric conversion\n",
        "le = LabelEncoder()\n",
        "for feat in objList:\n",
        "  df_total[feat] = le.fit_transform(df_total[feat].astype(str))\n",
        "  \n",
        "print (df_total.info())"
      ],
      "execution_count": null,
      "outputs": [
        {
          "output_type": "stream",
          "text": [
            "<class 'pandas.core.frame.DataFrame'>\n",
            "RangeIndex: 351037 entries, 0 to 351036\n",
            "Data columns (total 11 columns):\n",
            " #   Column               Non-Null Count   Dtype  \n",
            "---  ------               --------------   -----  \n",
            " 0   ID                   351037 non-null  int64  \n",
            " 1   Gender               351037 non-null  int64  \n",
            " 2   Age                  351037 non-null  int64  \n",
            " 3   Region_Code          351037 non-null  int64  \n",
            " 4   Occupation           351037 non-null  int64  \n",
            " 5   Channel_Code         351037 non-null  int64  \n",
            " 6   Vintage              351037 non-null  int64  \n",
            " 7   Credit_Product       351037 non-null  int64  \n",
            " 8   Avg_Account_Balance  351037 non-null  int64  \n",
            " 9   Is_Active            351037 non-null  int64  \n",
            " 10  Is_Lead              245725 non-null  float64\n",
            "dtypes: float64(1), int64(10)\n",
            "memory usage: 29.5 MB\n",
            "None\n"
          ],
          "name": "stdout"
        }
      ]
    },
    {
      "cell_type": "code",
      "metadata": {
        "id": "3siiiQ5L9fpY"
      },
      "source": [
        "premium_discretizer = KBinsDiscretizer(n_bins=8, encode='ordinal', strategy='quantile')\n",
        "df_total['Avg_Account_Balance_bin'] =premium_discretizer.fit_transform(df_total['Avg_Account_Balance'].values.reshape(-1,1)).astype(int)\n",
        "\n",
        "age_discretizer = KBinsDiscretizer(n_bins=10, encode='ordinal', strategy='quantile')\n",
        "df_total['Age_bin'] =age_discretizer.fit_transform(df_total['Age'].values.reshape(-1,1)).astype(int)\n",
        "df_total['Vintage_bin'] =age_discretizer.fit_transform(df_total['Vintage'].values.reshape(-1,1)).astype(int)\n"
      ],
      "execution_count": null,
      "outputs": []
    },
    {
      "cell_type": "code",
      "metadata": {
        "colab": {
          "base_uri": "https://localhost:8080/"
        },
        "id": "RCO3qIzPCrvJ",
        "outputId": "c2cd0714-9575-46f0-f1a2-78047797b6b6"
      },
      "source": [
        "train_x_full = df_total[df_total['Is_Lead'].notnull()]\n",
        "test_x_full = df_total[df_total['Is_Lead'].isnull()]\n",
        "train_y_full = train_x_full['Is_Lead']\n",
        "test_id=test_x_full['ID']\n",
        "del test_x_full['Is_Lead']\n",
        "del train_x_full['Is_Lead']\n",
        "del test_x_full['ID']\n",
        "del train_x_full['ID']\n",
        "print(train_x_full.shape, train_y_full.shape, test_x_full.shape)\n",
        "\n",
        "test_x_full.nunique()"
      ],
      "execution_count": null,
      "outputs": [
        {
          "output_type": "stream",
          "text": [
            "(245725, 12) (245725,) (105312, 12)\n"
          ],
          "name": "stdout"
        },
        {
          "output_type": "execute_result",
          "data": {
            "text/plain": [
              "Gender                         2\n",
              "Age                           62\n",
              "Region_Code                   35\n",
              "Occupation                     4\n",
              "Channel_Code                   4\n",
              "Vintage                       66\n",
              "Credit_Product                 3\n",
              "Avg_Account_Balance        78315\n",
              "Is_Active                      2\n",
              "Avg_Account_Balance_bin        8\n",
              "Age_bin                       10\n",
              "Vintage_bin                   10\n",
              "dtype: int64"
            ]
          },
          "metadata": {
            "tags": []
          },
          "execution_count": 11
        }
      ]
    },
    {
      "cell_type": "code",
      "metadata": {
        "id": "FGYPsXk6CEOH"
      },
      "source": [
        "NFOLDS = 20\n",
        "folds = StratifiedKFold(n_splits=NFOLDS, shuffle=True, random_state=18121995)\n",
        "pred_test = []\n",
        "pred_x = []\n",
        "pred_y = []\n",
        "j=1"
      ],
      "execution_count": null,
      "outputs": []
    },
    {
      "cell_type": "code",
      "metadata": {
        "id": "hFH5QZ4zCaxo"
      },
      "source": [
        "train_x = train_x_full.copy()\n",
        "train_y = train_y_full.copy()\n",
        "test_x = test_x_full.copy()\n",
        "feature_importance_df = pd.DataFrame()\n"
      ],
      "execution_count": null,
      "outputs": []
    },
    {
      "cell_type": "code",
      "metadata": {
        "id": "i_7RYyDvDiEF"
      },
      "source": [
        "cat_features = ['Gender','Region_Code',\t'Channel_Code',\t'Credit_Product'\t,'Is_Active'\t,\t'Avg_Account_Balance','Age' , 'Vintage']\n"
      ],
      "execution_count": null,
      "outputs": []
    },
    {
      "cell_type": "code",
      "metadata": {
        "colab": {
          "base_uri": "https://localhost:8080/"
        },
        "id": "THSHSbP5DGUn",
        "outputId": "18c2043c-efad-4b77-daa2-2517616d13b4"
      },
      "source": [
        "for fold, (train_ids, test_ids) in enumerate(folds.split(train_x, train_y)):\n",
        "    print('------- Fold -------:', fold+1)\n",
        "    model = CatBoostClassifier(n_estimators=1000,random_state=1812195,learning_rate=0.03,eval_metric='AUC',\n",
        "                            cat_features =cat_features)\n",
        "    model.fit(train_x.loc[train_ids], train_y.loc[train_ids], \n",
        "              eval_set=[(train_x.loc[train_ids], train_y.loc[train_ids]), (train_x.loc[test_ids], train_y.loc[test_ids])],\n",
        "              verbose=500,\n",
        "              early_stopping_rounds=200)\n",
        "    pred_fold = model.predict_proba(train_x.loc[test_ids])[:,-1]\n",
        "    pred_x.extend([float(i) for i  in pred_fold])\n",
        "    pred_y.extend(list(train_y.loc[test_ids].values))\n",
        "    pred_fold_test = model.predict_proba(test_x)[:,-1]\n",
        "    pred_test.append([float(i) for i  in pred_fold_test])\n",
        "    print('\\n')\n",
        "    \n",
        "    fold_importance_df = pd.DataFrame()\n",
        "    fold_importance_df[\"feature\"] = train_x.loc[train_ids].columns\n",
        "    fold_importance_df[\"importance\"] = model.feature_importances_\n",
        "    fold_importance_df[\"fold\"] = j + 1\n",
        "    feature_importance_df = pd.concat([feature_importance_df, fold_importance_df], axis=0)\n",
        "    j=j+1\n",
        "\n",
        "print(\"Final ROC-AUC Score:\", roc_auc_score(pred_y, pred_x))\n"
      ],
      "execution_count": null,
      "outputs": [
        {
          "output_type": "stream",
          "text": [
            "------- Fold -------: 1\n",
            "0:\ttest: 0.8587186\ttest1: 0.8523706\tbest: 0.8523706 (0)\ttotal: 728ms\tremaining: 12m 7s\n",
            "500:\ttest: 0.8821664\ttest1: 0.8689264\tbest: 0.8690244 (325)\ttotal: 3m 36s\tremaining: 3m 35s\n",
            "Stopped by overfitting detector  (200 iterations wait)\n",
            "\n",
            "bestTest = 0.8690243885\n",
            "bestIteration = 325\n",
            "\n",
            "Shrink model to first 326 iterations.\n",
            "\n",
            "\n",
            "------- Fold -------: 2\n",
            "0:\ttest: 0.8543639\ttest1: 0.8483216\tbest: 0.8483216 (0)\ttotal: 608ms\tremaining: 10m 7s\n",
            "500:\ttest: 0.8853070\ttest1: 0.8685849\tbest: 0.8686208 (492)\ttotal: 3m 35s\tremaining: 3m 34s\n",
            "Stopped by overfitting detector  (200 iterations wait)\n",
            "\n",
            "bestTest = 0.8686208289\n",
            "bestIteration = 492\n",
            "\n",
            "Shrink model to first 493 iterations.\n",
            "\n",
            "\n",
            "------- Fold -------: 3\n",
            "0:\ttest: 0.8576188\ttest1: 0.8613511\tbest: 0.8613511 (0)\ttotal: 627ms\tremaining: 10m 26s\n",
            "500:\ttest: 0.8808697\ttest1: 0.8775055\tbest: 0.8775256 (481)\ttotal: 3m 38s\tremaining: 3m 37s\n",
            "Stopped by overfitting detector  (200 iterations wait)\n",
            "\n",
            "bestTest = 0.8776563926\n",
            "bestIteration = 553\n",
            "\n",
            "Shrink model to first 554 iterations.\n",
            "\n",
            "\n",
            "------- Fold -------: 4\n",
            "0:\ttest: 0.8594462\ttest1: 0.8556775\tbest: 0.8556775 (0)\ttotal: 632ms\tremaining: 10m 31s\n",
            "500:\ttest: 0.8922770\ttest1: 0.8720573\tbest: 0.8720626 (489)\ttotal: 3m 32s\tremaining: 3m 32s\n",
            "999:\ttest: 0.8957159\ttest1: 0.8723983\tbest: 0.8723983 (999)\ttotal: 7m 20s\tremaining: 0us\n",
            "\n",
            "bestTest = 0.8723982755\n",
            "bestIteration = 999\n",
            "\n",
            "\n",
            "\n",
            "------- Fold -------: 5\n",
            "0:\ttest: 0.8539628\ttest1: 0.8555141\tbest: 0.8555141 (0)\ttotal: 595ms\tremaining: 9m 54s\n",
            "500:\ttest: 0.8881397\ttest1: 0.8738338\tbest: 0.8738352 (499)\ttotal: 3m 34s\tremaining: 3m 33s\n",
            "999:\ttest: 0.8895928\ttest1: 0.8743939\tbest: 0.8744268 (936)\ttotal: 7m 33s\tremaining: 0us\n",
            "\n",
            "bestTest = 0.8744267805\n",
            "bestIteration = 936\n",
            "\n",
            "Shrink model to first 937 iterations.\n",
            "\n",
            "\n",
            "------- Fold -------: 6\n",
            "0:\ttest: 0.8568773\ttest1: 0.8604818\tbest: 0.8604818 (0)\ttotal: 612ms\tremaining: 10m 11s\n",
            "500:\ttest: 0.8834230\ttest1: 0.8789930\tbest: 0.8790002 (499)\ttotal: 3m 35s\tremaining: 3m 35s\n",
            "999:\ttest: 0.8902131\ttest1: 0.8793344\tbest: 0.8793581 (988)\ttotal: 7m 28s\tremaining: 0us\n",
            "\n",
            "bestTest = 0.8793580544\n",
            "bestIteration = 988\n",
            "\n",
            "Shrink model to first 989 iterations.\n",
            "\n",
            "\n",
            "------- Fold -------: 7\n",
            "0:\ttest: 0.8573545\ttest1: 0.8524424\tbest: 0.8524424 (0)\ttotal: 594ms\tremaining: 9m 53s\n",
            "500:\ttest: 0.8788022\ttest1: 0.8712584\tbest: 0.8712719 (475)\ttotal: 3m 23s\tremaining: 3m 22s\n",
            "Stopped by overfitting detector  (200 iterations wait)\n",
            "\n",
            "bestTest = 0.8712719161\n",
            "bestIteration = 475\n",
            "\n",
            "Shrink model to first 476 iterations.\n",
            "\n",
            "\n",
            "------- Fold -------: 8\n",
            "0:\ttest: 0.8569936\ttest1: 0.8583544\tbest: 0.8583544 (0)\ttotal: 595ms\tremaining: 9m 54s\n",
            "500:\ttest: 0.8834226\ttest1: 0.8750919\tbest: 0.8750963 (497)\ttotal: 3m 33s\tremaining: 3m 32s\n",
            "999:\ttest: 0.8870589\ttest1: 0.8752876\tbest: 0.8753234 (983)\ttotal: 7m 27s\tremaining: 0us\n",
            "\n",
            "bestTest = 0.8753234162\n",
            "bestIteration = 983\n",
            "\n",
            "Shrink model to first 984 iterations.\n",
            "\n",
            "\n",
            "------- Fold -------: 9\n",
            "0:\ttest: 0.8568905\ttest1: 0.8583470\tbest: 0.8583470 (0)\ttotal: 600ms\tremaining: 9m 59s\n",
            "500:\ttest: 0.8824201\ttest1: 0.8733731\tbest: 0.8733731 (500)\ttotal: 3m 32s\tremaining: 3m 31s\n",
            "999:\ttest: 0.8809449\ttest1: 0.8737170\tbest: 0.8737943 (945)\ttotal: 7m 29s\tremaining: 0us\n",
            "\n",
            "bestTest = 0.8737942699\n",
            "bestIteration = 945\n",
            "\n",
            "Shrink model to first 946 iterations.\n",
            "\n",
            "\n",
            "------- Fold -------: 10\n",
            "0:\ttest: 0.8570829\ttest1: 0.8569956\tbest: 0.8569956 (0)\ttotal: 622ms\tremaining: 10m 21s\n",
            "500:\ttest: 0.8791766\ttest1: 0.8740287\tbest: 0.8740360 (491)\ttotal: 3m 29s\tremaining: 3m 28s\n",
            "Stopped by overfitting detector  (200 iterations wait)\n",
            "\n",
            "bestTest = 0.8742209632\n",
            "bestIteration = 682\n",
            "\n",
            "Shrink model to first 683 iterations.\n",
            "\n",
            "\n",
            "------- Fold -------: 11\n",
            "0:\ttest: 0.8569857\ttest1: 0.8586063\tbest: 0.8586063 (0)\ttotal: 589ms\tremaining: 9m 48s\n",
            "500:\ttest: 0.8838173\ttest1: 0.8762307\tbest: 0.8762720 (424)\ttotal: 3m 35s\tremaining: 3m 35s\n",
            "999:\ttest: 0.8842727\ttest1: 0.8768460\tbest: 0.8769195 (971)\ttotal: 7m 36s\tremaining: 0us\n",
            "\n",
            "bestTest = 0.8769194978\n",
            "bestIteration = 971\n",
            "\n",
            "Shrink model to first 972 iterations.\n",
            "\n",
            "\n",
            "------- Fold -------: 12\n",
            "0:\ttest: 0.8578485\ttest1: 0.8487673\tbest: 0.8487673 (0)\ttotal: 595ms\tremaining: 9m 53s\n",
            "500:\ttest: 0.8848445\ttest1: 0.8669970\tbest: 0.8669970 (500)\ttotal: 3m 26s\tremaining: 3m 25s\n",
            "999:\ttest: 0.8948653\ttest1: 0.8674052\tbest: 0.8674305 (974)\ttotal: 7m 2s\tremaining: 0us\n",
            "\n",
            "bestTest = 0.8674305222\n",
            "bestIteration = 974\n",
            "\n",
            "Shrink model to first 975 iterations.\n",
            "\n",
            "\n",
            "------- Fold -------: 13\n",
            "0:\ttest: 0.8569299\ttest1: 0.8595144\tbest: 0.8595144 (0)\ttotal: 584ms\tremaining: 9m 43s\n",
            "500:\ttest: 0.8859712\ttest1: 0.8770956\tbest: 0.8770965 (498)\ttotal: 3m 38s\tremaining: 3m 37s\n",
            "Stopped by overfitting detector  (200 iterations wait)\n",
            "\n",
            "bestTest = 0.8770977292\n",
            "bestIteration = 501\n",
            "\n",
            "Shrink model to first 502 iterations.\n",
            "\n",
            "\n",
            "------- Fold -------: 14\n",
            "0:\ttest: 0.8570669\ttest1: 0.8575055\tbest: 0.8575055 (0)\ttotal: 580ms\tremaining: 9m 38s\n",
            "500:\ttest: 0.8851959\ttest1: 0.8749030\tbest: 0.8749406 (479)\ttotal: 3m 38s\tremaining: 3m 37s\n",
            "999:\ttest: 0.8825142\ttest1: 0.8752813\tbest: 0.8753051 (934)\ttotal: 7m 30s\tremaining: 0us\n",
            "\n",
            "bestTest = 0.8753050896\n",
            "bestIteration = 934\n",
            "\n",
            "Shrink model to first 935 iterations.\n",
            "\n",
            "\n",
            "------- Fold -------: 15\n",
            "0:\ttest: 0.8571372\ttest1: 0.8563267\tbest: 0.8563267 (0)\ttotal: 594ms\tremaining: 9m 53s\n",
            "500:\ttest: 0.8854322\ttest1: 0.8723683\tbest: 0.8723701 (498)\ttotal: 3m 32s\tremaining: 3m 31s\n",
            "999:\ttest: 0.8910289\ttest1: 0.8725273\tbest: 0.8726518 (833)\ttotal: 7m 20s\tremaining: 0us\n",
            "\n",
            "bestTest = 0.8726517766\n",
            "bestIteration = 833\n",
            "\n",
            "Shrink model to first 834 iterations.\n",
            "\n",
            "\n",
            "------- Fold -------: 16\n",
            "0:\ttest: 0.8569608\ttest1: 0.8588789\tbest: 0.8588789 (0)\ttotal: 595ms\tremaining: 9m 54s\n",
            "500:\ttest: 0.8840492\ttest1: 0.8750152\tbest: 0.8750152 (500)\ttotal: 3m 37s\tremaining: 3m 36s\n",
            "999:\ttest: 0.8869416\ttest1: 0.8755500\tbest: 0.8755585 (995)\ttotal: 7m 32s\tremaining: 0us\n",
            "\n",
            "bestTest = 0.8755584583\n",
            "bestIteration = 995\n",
            "\n",
            "Shrink model to first 996 iterations.\n",
            "\n",
            "\n",
            "------- Fold -------: 17\n",
            "0:\ttest: 0.8573043\ttest1: 0.8535321\tbest: 0.8535321 (0)\ttotal: 609ms\tremaining: 10m 8s\n",
            "500:\ttest: 0.8871466\ttest1: 0.8724106\tbest: 0.8724142 (499)\ttotal: 3m 41s\tremaining: 3m 40s\n",
            "999:\ttest: 0.8880664\ttest1: 0.8729519\tbest: 0.8729519 (999)\ttotal: 7m 38s\tremaining: 0us\n",
            "\n",
            "bestTest = 0.872951923\n",
            "bestIteration = 999\n",
            "\n",
            "\n",
            "\n",
            "------- Fold -------: 18\n",
            "0:\ttest: 0.8565961\ttest1: 0.8649879\tbest: 0.8649879 (0)\ttotal: 601ms\tremaining: 10m\n",
            "500:\ttest: 0.8896018\ttest1: 0.8829221\tbest: 0.8829365 (491)\ttotal: 3m 40s\tremaining: 3m 39s\n",
            "Stopped by overfitting detector  (200 iterations wait)\n",
            "\n",
            "bestTest = 0.882990753\n",
            "bestIteration = 576\n",
            "\n",
            "Shrink model to first 577 iterations.\n",
            "\n",
            "\n",
            "------- Fold -------: 19\n",
            "0:\ttest: 0.8571269\ttest1: 0.8562426\tbest: 0.8562426 (0)\ttotal: 597ms\tremaining: 9m 56s\n",
            "500:\ttest: 0.8853468\ttest1: 0.8747639\tbest: 0.8747770 (494)\ttotal: 3m 43s\tremaining: 3m 43s\n",
            "Stopped by overfitting detector  (200 iterations wait)\n",
            "\n",
            "bestTest = 0.8749175085\n",
            "bestIteration = 581\n",
            "\n",
            "Shrink model to first 582 iterations.\n",
            "\n",
            "\n",
            "------- Fold -------: 20\n",
            "0:\ttest: 0.8567877\ttest1: 0.8629247\tbest: 0.8629247 (0)\ttotal: 618ms\tremaining: 10m 17s\n",
            "500:\ttest: 0.8807296\ttest1: 0.8794437\tbest: 0.8794497 (471)\ttotal: 3m 38s\tremaining: 3m 37s\n",
            "Stopped by overfitting detector  (200 iterations wait)\n",
            "\n",
            "bestTest = 0.8795495501\n",
            "bestIteration = 643\n",
            "\n",
            "Shrink model to first 644 iterations.\n",
            "\n",
            "\n",
            "Final ROC-AUC Score: 0.8745050968198607\n"
          ],
          "name": "stdout"
        }
      ]
    },
    {
      "cell_type": "code",
      "metadata": {
        "colab": {
          "base_uri": "https://localhost:8080/"
        },
        "id": "KymVLEkDDZsS",
        "outputId": "2347f6c8-58fb-480a-9a0e-03ecb97a2a6f"
      },
      "source": [
        "print(\"Final ROC-AUC Score:\", roc_auc_score(pred_y, pred_x))\n"
      ],
      "execution_count": null,
      "outputs": [
        {
          "output_type": "stream",
          "text": [
            "Final ROC-AUC Score: 0.8745050968198607\n"
          ],
          "name": "stdout"
        }
      ]
    },
    {
      "cell_type": "code",
      "metadata": {
        "id": "aPoPrt3zD_97"
      },
      "source": [
        "\n",
        "final_prediction = pd.DataFrame(pred_test).T\n",
        "final_prediction.columns = [(\"FOLD_\"+str(i)) for i in range(final_prediction.shape[1])]\n",
        "\n",
        "vote = final_prediction.mean(axis=1)\n",
        "final_prediction['Is_Lead'] = vote\n",
        "final_prediction['ID'] = test_id.values\n",
        "print(final_prediction.shape)\n",
        "\n",
        "train_pred_all['cb_pred'] = pred_x\n",
        "final_prediction_cb = final_prediction.copy()\n",
        "\n",
        "final_prediction.head()\n",
        "\n",
        "#train_pred_all['cb_pred'] = pred_x\n",
        "final_prediction_cb = final_prediction\n",
        "\n",
        "final_prediction.head()"
      ],
      "execution_count": null,
      "outputs": []
    }
  ]
}