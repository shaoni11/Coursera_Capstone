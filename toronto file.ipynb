{
    "cells": [
        {
            "cell_type": "code",
            "execution_count": 36,
            "metadata": {},
            "outputs": [
                {
                    "name": "stdout",
                    "output_type": "stream",
                    "text": "Libraries imported.\n"
                }
            ],
            "source": "\nimport numpy as np # library for vectorized computation\nimport pandas as pd # library to process data as dataframes\npd.set_option('display.max_columns', None)\npd.set_option('display.max_rows', None)\nfrom pandas import DataFrame\n\nfrom bs4 import BeautifulSoup\nimport lxml\n\nprint('Libraries imported.')"
        },
        {
            "cell_type": "code",
            "execution_count": 37,
            "metadata": {},
            "outputs": [],
            "source": "import requests\nwebsite_url = requests.get('https://en.wikipedia.org/wiki/List_of_postal_codes_of_Canada:_M')"
        },
        {
            "cell_type": "markdown",
            "metadata": {},
            "source": "# Download, scrape and wrangle"
        },
        {
            "cell_type": "code",
            "execution_count": 38,
            "metadata": {},
            "outputs": [],
            "source": "soup = BeautifulSoup(website_url.text, 'html.parser')\ntable=soup.find('table', attrs={'class':'wikitable sortable'})\n\n#get headers:\nheaders=table.findAll('th')\nfor i, head in enumerate(headers): headers[i]=str(headers[i]).replace(\"<th>\",\"\").replace(\"</th>\",\"\").replace(\"\\n\",\"\")\n\n#Find all items and skip first one:\nrows=table.findAll('tr')\nrows=rows[1:len(rows)]\n\n# skip all meta symbols and line feeds between rows:\nfor i, row in enumerate(rows): rows[i] = str(rows[i]).replace(\"\\n</td></tr>\",\"\").replace(\"<tr>\\n<td>\",\"\")\n\n# make dataframe, expand rows and drop the old one:\npostal_df=pd.DataFrame(rows)\npostal_df[headers] = postal_df[0].str.split(\"</td>\\n<td>\", n = 2, expand = True) \npostal_df.drop(columns=[0],inplace=True)\n"
        },
        {
            "cell_type": "markdown",
            "metadata": {},
            "source": "## Steps performed in below cell : \n\n### 1.Only process the cells that have an assigned borough. Ignore cells with a borough that is Not assigned.\n### 2. Areas with one postal code will be combined into one row with the neighborhoods separated with a comma.\n### 3. If a cell has a borough but a Not assigned neighborhood, then the neighborhood will be the same as the borough."
        },
        {
            "cell_type": "code",
            "execution_count": 39,
            "metadata": {},
            "outputs": [
                {
                    "data": {
                        "text/html": "<div>\n<style scoped>\n    .dataframe tbody tr th:only-of-type {\n        vertical-align: middle;\n    }\n\n    .dataframe tbody tr th {\n        vertical-align: top;\n    }\n\n    .dataframe thead th {\n        text-align: right;\n    }\n</style>\n<table border=\"1\" class=\"dataframe\">\n  <thead>\n    <tr style=\"text-align: right;\">\n      <th></th>\n      <th>Postcode</th>\n      <th>Borough</th>\n      <th>Neighborhood</th>\n    </tr>\n  </thead>\n  <tbody>\n    <tr>\n      <th>0</th>\n      <td>M3A</td>\n      <td>North York</td>\n      <td>Parkwoods</td>\n    </tr>\n    <tr>\n      <th>1</th>\n      <td>M4A</td>\n      <td>North York</td>\n      <td>Victoria Village</td>\n    </tr>\n    <tr>\n      <th>2</th>\n      <td>M5A</td>\n      <td>Downtown Toronto</td>\n      <td>Regent Park</td>\n    </tr>\n    <tr>\n      <th>3</th>\n      <td>M6A</td>\n      <td>North York</td>\n      <td>Lawrence Heights, Lawrence Manor</td>\n    </tr>\n    <tr>\n      <th>4</th>\n      <td>M7A</td>\n      <td>Queen's Park (Toronto)</td>\n      <td>Queen's Park</td>\n    </tr>\n  </tbody>\n</table>\n</div>",
                        "text/plain": "  Postcode                 Borough                      Neighborhood\n0      M3A              North York                         Parkwoods\n1      M4A              North York                  Victoria Village\n2      M5A        Downtown Toronto                       Regent Park\n3      M6A              North York  Lawrence Heights, Lawrence Manor\n4      M7A  Queen's Park (Toronto)                     Queen's Park "
                    },
                    "execution_count": 39,
                    "metadata": {},
                    "output_type": "execute_result"
                }
            ],
            "source": "# skip not assigned boroughs:\npostal_df = postal_df.drop(postal_df[(postal_df.Borough == \"Not assigned\")].index)\n# give \"Not assigned\" Neighborhoods same name as Borough:\npostal_df.Neighbourhood.replace(\"Not assigned\", postal_df.Borough, inplace=True)\n\n# copy Borough value to Neighborhood if NaN:\npostal_df.Neighbourhood.fillna(postal_df.Borough, inplace=True)\n# drop duplicate rows:\npostal_df=postal_df.drop_duplicates()\n\n# extract titles from columns\npostal_df.update(\n    postal_df.Neighbourhood.loc[\n        lambda x: x.str.contains('title')\n    ].str.extract('title=\\\"([^\\\"]*)',expand=False))\n\npostal_df.update(\n    postal_df.Borough.loc[\n        lambda x: x.str.contains('title')\n    ].str.extract('title=\\\"([^\\\"]*)',expand=False))\n\n# delete Toronto annotation from Neighbourhood:\npostal_df.update(\n    postal_df.Neighbourhood.loc[\n        lambda x: x.str.contains('Toronto')\n    ].str.replace(\", Toronto\",\"\"))\npostal_df.update(\n    postal_df.Neighbourhood.loc[\n        lambda x: x.str.contains('Toronto')\n    ].str.replace(\"\\(Toronto\\)\",\"\"))\n\n# combine multiple neighborhoods with the same post code\ndf2 = pd.DataFrame({'Postcode':postal_df.Postcode.unique()})\ndf2['Borough']=pd.DataFrame(list(set(postal_df['Borough'].loc[postal_df['Postcode'] == x['Postcode']])) for i, x in df2.iterrows())\ndf2['Neighborhood']=pd.Series(list(set(postal_df['Neighbourhood'].loc[postal_df['Postcode'] == x['Postcode']])) for i, x in df2.iterrows())\ndf2['Neighborhood']=df2['Neighborhood'].apply(lambda x: ', '.join(x))\ndf2.dtypes\n\ndf2.head()"
        },
        {
            "cell_type": "code",
            "execution_count": 40,
            "metadata": {},
            "outputs": [
                {
                    "data": {
                        "text/html": "<div>\n<style scoped>\n    .dataframe tbody tr th:only-of-type {\n        vertical-align: middle;\n    }\n\n    .dataframe tbody tr th {\n        vertical-align: top;\n    }\n\n    .dataframe thead th {\n        text-align: right;\n    }\n</style>\n<table border=\"1\" class=\"dataframe\">\n  <thead>\n    <tr style=\"text-align: right;\">\n      <th></th>\n      <th>Postcode</th>\n      <th>Borough</th>\n      <th>Neighborhood</th>\n    </tr>\n  </thead>\n  <tbody>\n    <tr>\n      <th>0</th>\n      <td>M3A</td>\n      <td>North York</td>\n      <td>Parkwoods</td>\n    </tr>\n    <tr>\n      <th>1</th>\n      <td>M4A</td>\n      <td>North York</td>\n      <td>Victoria Village</td>\n    </tr>\n    <tr>\n      <th>2</th>\n      <td>M5A</td>\n      <td>Downtown Toronto</td>\n      <td>Regent Park</td>\n    </tr>\n    <tr>\n      <th>3</th>\n      <td>M6A</td>\n      <td>North York</td>\n      <td>Lawrence Heights, Lawrence Manor</td>\n    </tr>\n    <tr>\n      <th>4</th>\n      <td>M7A</td>\n      <td>Queen's Park (Toronto)</td>\n      <td>Queen's Park</td>\n    </tr>\n    <tr>\n      <th>5</th>\n      <td>M9A</td>\n      <td>Downtown Toronto</td>\n      <td>Queen's Park</td>\n    </tr>\n    <tr>\n      <th>6</th>\n      <td>M1B</td>\n      <td>Scarborough, Toronto</td>\n      <td>Malvern, Rouge</td>\n    </tr>\n    <tr>\n      <th>7</th>\n      <td>M3B</td>\n      <td>North York</td>\n      <td>Don Mills North</td>\n    </tr>\n    <tr>\n      <th>8</th>\n      <td>M4B</td>\n      <td>East York</td>\n      <td>Parkview Hill, Woodbine Gardens</td>\n    </tr>\n    <tr>\n      <th>9</th>\n      <td>M5B</td>\n      <td>Downtown Toronto</td>\n      <td>Ryerson, Garden District</td>\n    </tr>\n    <tr>\n      <th>10</th>\n      <td>M6B</td>\n      <td>North York</td>\n      <td>Glencairn</td>\n    </tr>\n    <tr>\n      <th>11</th>\n      <td>M9B</td>\n      <td>Etobicoke</td>\n      <td>West Deane Park, Princess Gardens, Martin Grov...</td>\n    </tr>\n    <tr>\n      <th>12</th>\n      <td>M1C</td>\n      <td>Scarborough, Toronto</td>\n      <td>Rouge Hill, Port Union, Highland Creek</td>\n    </tr>\n    <tr>\n      <th>13</th>\n      <td>M3C</td>\n      <td>North York</td>\n      <td>Flemingdon Park, Don Mills South</td>\n    </tr>\n    <tr>\n      <th>14</th>\n      <td>M4C</td>\n      <td>East York</td>\n      <td>Woodbine Heights</td>\n    </tr>\n  </tbody>\n</table>\n</div>",
                        "text/plain": "   Postcode                 Borough  \\\n0       M3A              North York   \n1       M4A              North York   \n2       M5A        Downtown Toronto   \n3       M6A              North York   \n4       M7A  Queen's Park (Toronto)   \n5       M9A        Downtown Toronto   \n6       M1B    Scarborough, Toronto   \n7       M3B              North York   \n8       M4B               East York   \n9       M5B        Downtown Toronto   \n10      M6B              North York   \n11      M9B               Etobicoke   \n12      M1C    Scarborough, Toronto   \n13      M3C              North York   \n14      M4C               East York   \n\n                                         Neighborhood  \n0                                           Parkwoods  \n1                                    Victoria Village  \n2                                         Regent Park  \n3                    Lawrence Heights, Lawrence Manor  \n4                                       Queen's Park   \n5                                       Queen's Park   \n6                                      Malvern, Rouge  \n7                                     Don Mills North  \n8                     Parkview Hill, Woodbine Gardens  \n9                            Ryerson, Garden District  \n10                                          Glencairn  \n11  West Deane Park, Princess Gardens, Martin Grov...  \n12            Rouge Hill, Port Union, Highland Creek   \n13                   Flemingdon Park, Don Mills South  \n14                                   Woodbine Heights  "
                    },
                    "execution_count": 40,
                    "metadata": {},
                    "output_type": "execute_result"
                }
            ],
            "source": "df2.head(15)"
        },
        {
            "cell_type": "code",
            "execution_count": 41,
            "metadata": {},
            "outputs": [
                {
                    "data": {
                        "text/plain": "(103, 3)"
                    },
                    "execution_count": 41,
                    "metadata": {},
                    "output_type": "execute_result"
                }
            ],
            "source": "df2.shape"
        },
        {
            "cell_type": "code",
            "execution_count": null,
            "metadata": {},
            "outputs": [],
            "source": ""
        }
    ],
    "metadata": {
        "kernelspec": {
            "display_name": "Python 3.6",
            "language": "python",
            "name": "python3"
        },
        "language_info": {
            "codemirror_mode": {
                "name": "ipython",
                "version": 3
            },
            "file_extension": ".py",
            "mimetype": "text/x-python",
            "name": "python",
            "nbconvert_exporter": "python",
            "pygments_lexer": "ipython3",
            "version": "3.6.8"
        }
    },
    "nbformat": 4,
    "nbformat_minor": 1
}